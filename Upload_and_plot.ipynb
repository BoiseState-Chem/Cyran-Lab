{
 "cells": [
  {
   "cell_type": "code",
   "execution_count": null,
   "metadata": {},
   "outputs": [],
   "source": [
    "# @title Notebook Setup { display-mode: \"form\" }\n",
    "# Import the main modules used in this worksheet\n",
    "import numpy as np\n",
    "import matplotlib.pyplot as plt\n",
    "import pandas as pd\n",
    "# Load the google drive with your files\n",
    "from google.colab import drive\n",
    "drive.mount('/content/drive')"
   ]
  },
  {
   "cell_type": "code",
   "execution_count": null,
   "metadata": {},
   "outputs": [],
   "source": [
    "# The following needs to be the path of the folder with all your datafile in .ntb format\n",
    "# Open the file icon on the left, find the folder where the data is contained, click the three dots on folder and click copy path, add a backslash at the end\n",
    "path = '/content/drive/MyDrive/Colab Notebooks/'\n",
    "\n",
    "# Define a list of dictionaries with file information\n",
    "# Copy and paste a new file dictionary, change the 'name' to the exact file name, change the label to reflect what should be plotted on the graph\n",
    "files = [\n",
    "    {'path': path, 'name': 'cdc_DPPC_PS_Bottom.ntb', 'label': 'DPPC_PS', 'skiprows': 38},\n",
    "    {'path': path, 'name': 'cdc_test3_DPPC.ntb', 'label': 'DPPC3', 'skiprows': 38},\n",
    "    {'path': path, 'name': 'cdc_test2_DPPC.ntb', 'label': 'DPPC2', 'skiprows': 38},\n",
    "\n",
    "    # Add more files here if needed\n",
    "]\n",
    "\n",
    "plt.figure(figsize=(10, 6))  # Create a figure\n",
    "\n",
    "# Iterate over the files list to read data and plot\n",
    "for file in files:\n",
    "    # Construct the full path to the file\n",
    "    path = file['path'] + file['name']\n",
    "\n",
    "    # Read the file into a DataFrame\n",
    "    df = pd.read_csv(path, skiprows=file['skiprows'], sep=';')\n",
    "\n",
    "    # Extract relevant columns\n",
    "    total_area = df['Area']\n",
    "    pressure = df['Pressure']\n",
    "\n",
    "    # Plot the data\n",
    "    plt.plot(total_area, pressure, linestyle='-', linewidth=2, label=file['label'])\n",
    "\n",
    "# Set plot titles and labels\n",
    "plt.title('Area vs Pressure')\n",
    "plt.xlabel('Area')\n",
    "plt.ylabel('Pressure')\n",
    "plt.legend()\n",
    "plt.grid(True)\n",
    "\n",
    "# Show the plot\n",
    "plt.show()"
   ]
  }
 ],
 "metadata": {
  "language_info": {
   "name": "python"
  }
 },
 "nbformat": 4,
 "nbformat_minor": 2
}
